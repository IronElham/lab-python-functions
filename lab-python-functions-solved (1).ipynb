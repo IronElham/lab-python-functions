{
 "cells": [
  {
   "cell_type": "markdown",
   "id": "25d7736c-ba17-4aff-b6bb-66eba20fbf4e",
   "metadata": {},
   "source": [
    "# Lab | Functions"
   ]
  },
  {
   "cell_type": "markdown",
   "id": "0c581062-8967-4d93-b06e-62833222f930",
   "metadata": {
    "tags": []
   },
   "source": [
    "## Exercise: Managing Customer Orders with Functions\n",
    "\n",
    "In the previous exercise, you improved the code for managing customer orders by using loops and flow control. Now, let's take it a step further and refactor the code by introducing functions.\n",
    "\n",
    "Follow the steps below to complete the exercise:\n",
    "\n",
    "1. Define a function named `initialize_inventory` that takes `products` as a parameter. Inside the function, implement the code for initializing the inventory dictionary using a loop and user input.\n",
    "\n",
    "2. Define a function named `get_customer_orders` that takes no parameters. Inside the function, implement the code for prompting the user to enter the product names using a loop. The function should return the `customer_orders` set.\n",
    "\n",
    "3. Define a function named `update_inventory` that takes `customer_orders` and `inventory` as parameters. Inside the function, implement the code for updating the inventory dictionary based on the customer orders.\n",
    "\n",
    "4. Define a function named `calculate_order_statistics` that takes `customer_orders` and `products` as parameters. Inside the function, implement the code for calculating the order statistics (total products ordered, and percentage of unique products ordered). The function should return these values.\n",
    "\n",
    "5. Define a function named `print_order_statistics` that takes `order_statistics` as a parameter. Inside the function, implement the code for printing the order statistics.\n",
    "\n",
    "6. Define a function named `print_updated_inventory` that takes `inventory` as a parameter. Inside the function, implement the code for printing the updated inventory.\n",
    "\n",
    "7. Call the functions in the appropriate sequence to execute the program and manage customer orders.\n",
    "\n",
    "Hints for functions:\n",
    "\n",
    "- Consider the input parameters required for each function and their return values.\n",
    "- Utilize function parameters and return values to transfer data between functions.\n",
    "- Test your functions individually to ensure they work correctly.\n",
    "\n",
    "\n"
   ]
  },
  {
   "cell_type": "code",
   "execution_count": 1,
   "id": "9628af2d-4d53-461a-9f24-b156c3ce6c73",
   "metadata": {},
   "outputs": [],
   "source": [
    "products= [\"t-shirt\", \"mug\", \"hat\", \"book\", \"keychain\"]"
   ]
  },
  {
   "cell_type": "code",
   "execution_count": 20,
   "id": "c5d7deac-a2ec-4faf-b096-f064b0da7c9f",
   "metadata": {},
   "outputs": [],
   "source": [
    "#1. Define a function named initialize_inventory that takes products as a parameter. \n",
    "#Inside the function, implement the code for initializing the inventory dictionary using a loop and user inpu\n",
    "def initialize_inventory (products):\n",
    "    for product in products:\n",
    "        inventory[product] = int(input(f\"Please enter quantities of your selected product {product}:\"))"
   ]
  },
  {
   "cell_type": "code",
   "execution_count": 3,
   "id": "705a2f8a-3c6d-4dd8-8f88-e714847fad85",
   "metadata": {},
   "outputs": [],
   "source": [
    "inventory={}"
   ]
  },
  {
   "cell_type": "code",
   "execution_count": 21,
   "id": "fdc83725-eb1e-4bd1-b8de-243c331e255f",
   "metadata": {},
   "outputs": [
    {
     "name": "stdin",
     "output_type": "stream",
     "text": [
      "Please enter quantities of your selected product t-shirt: 3\n",
      "Please enter quantities of your selected product mug: 4\n",
      "Please enter quantities of your selected product hat: 5\n",
      "Please enter quantities of your selected product book: 6\n",
      "Please enter quantities of your selected product keychain: 7\n"
     ]
    }
   ],
   "source": [
    "initialize_inventory (products)"
   ]
  },
  {
   "cell_type": "code",
   "execution_count": 5,
   "id": "0962370f-5e34-465d-965d-4e9ffb3acecf",
   "metadata": {},
   "outputs": [],
   "source": [
    "#2. Define a function named get_customer_orders that takes no parameters. \n",
    "#Inside the function, implement the code for prompting the user to enter the product names using a loop.\n",
    "#The function should return the customer_orders set.#revised answer from fellow students\n",
    "\n",
    "def get_customer_orders():\n",
    "    customer_orders = set()\n",
    "   \n",
    "    while True:\n",
    "        product = input(f\"Please enter products you want to order: (type 'done' to finish the order): \")\n",
    "        if product == 'done':\n",
    "            break\n",
    "        \n",
    "        else:\n",
    "            print(f\"{product} added to your list\")\n",
    "        customer_orders.add(product)\n",
    "    return customer_orders"
   ]
  },
  {
   "cell_type": "code",
   "execution_count": 22,
   "id": "c1a1718f-db2c-469e-824d-a163d61f449d",
   "metadata": {},
   "outputs": [
    {
     "name": "stdout",
     "output_type": "stream",
     "text": [
      "Enter customer orders:\n"
     ]
    },
    {
     "name": "stdin",
     "output_type": "stream",
     "text": [
      "enter products you want to order? (type 'done' to finish the order):  t-shirt\n"
     ]
    },
    {
     "name": "stdout",
     "output_type": "stream",
     "text": [
      "t-shirt added to your list\n"
     ]
    },
    {
     "name": "stdin",
     "output_type": "stream",
     "text": [
      "enter products you want to order? (type 'done' to finish the order):  mug\n"
     ]
    },
    {
     "name": "stdout",
     "output_type": "stream",
     "text": [
      "mug added to your list\n"
     ]
    },
    {
     "name": "stdin",
     "output_type": "stream",
     "text": [
      "enter products you want to order? (type 'done' to finish the order):  book\n"
     ]
    },
    {
     "name": "stdout",
     "output_type": "stream",
     "text": [
      "book added to your list\n"
     ]
    },
    {
     "name": "stdin",
     "output_type": "stream",
     "text": [
      "enter products you want to order? (type 'done' to finish the order):  done\n"
     ]
    }
   ],
   "source": [
    "print(\"Enter customer orders:\")\n",
    "customer_orders = get_customer_orders()"
   ]
  },
  {
   "cell_type": "code",
   "execution_count": 7,
   "id": "127d09f4-2576-4633-bd31-f783ee1b24fc",
   "metadata": {},
   "outputs": [],
   "source": [
    "#3. Define a function named update_inventory that takes customer_orders and inventory as parameters. \n",
    "#Inside the function, implement the code for updating the inventory dictionary based on the customer orders.\n",
    "def update_inventory(customer_orders, inventory):\n",
    "    for order in customer_orders:\n",
    "        inventory[order]-=1\n",
    "    return inventory"
   ]
  },
  {
   "cell_type": "code",
   "execution_count": 23,
   "id": "6e55fb18-b953-4629-bdb2-ab64e0ac8939",
   "metadata": {},
   "outputs": [
    {
     "data": {
      "text/plain": [
       "{'t-shirt': 2, 'mug': 3, 'hat': 5, 'book': 5, 'keychain': 7}"
      ]
     },
     "execution_count": 23,
     "metadata": {},
     "output_type": "execute_result"
    }
   ],
   "source": [
    "update_inventory(customer_orders, inventory)"
   ]
  },
  {
   "cell_type": "code",
   "execution_count": 25,
   "id": "ab295fdb-9562-496d-b9d6-856615c4a632",
   "metadata": {},
   "outputs": [],
   "source": [
    "#4. Define a function named calculate_order_statistics that takes customer_orders and products as parameters. \n",
    "#Inside the function, implement the code for calculating the order statistics (total products ordered, and percentage of unique products ordered). \n",
    "#The function should return these values.\n",
    "def calculate_order_statistics(customer_orders, products):\n",
    "    total_products_ordered = len(customer_orders)\n",
    "    percentage__unique_product_ordered= total_products_ordered/ len(products) *100\n",
    "    order_statistics= f' total product ordered: {total_products_ordered}, percentage products is {percentage__unique_product_ordered}'\n",
    "    return order_statistics"
   ]
  },
  {
   "cell_type": "code",
   "execution_count": 24,
   "id": "73d5862d-e3ca-4712-b8f7-ce84e008678b",
   "metadata": {},
   "outputs": [],
   "source": [
    "order_statistics=calculate_order_statistics(customer_orders, products)"
   ]
  },
  {
   "cell_type": "code",
   "execution_count": 16,
   "id": "1bda033a-d038-4fa4-ae06-4a3deb94343d",
   "metadata": {},
   "outputs": [],
   "source": [
    "#5. Define a function named print_order_statistics that takes order_statistics as a parameter. \n",
    "#Inside the function, implement the code for printing the order statistics.\n",
    "def print_order_statistics(order_statistics):\n",
    "    order_statistics= calculate_order_statistics(customer_orders, products)\n",
    "    return(order_statistics)"
   ]
  },
  {
   "cell_type": "code",
   "execution_count": 26,
   "id": "6c5ad692-06c9-4071-a684-a5411b46d366",
   "metadata": {},
   "outputs": [
    {
     "data": {
      "text/plain": [
       "' total product ordered: 3, percentage products is 60.0'"
      ]
     },
     "execution_count": 26,
     "metadata": {},
     "output_type": "execute_result"
    }
   ],
   "source": [
    "print_order_statistics(order_statistics)"
   ]
  },
  {
   "cell_type": "code",
   "execution_count": 18,
   "id": "0cf34c16-fb91-408c-ad08-d39f6da34f72",
   "metadata": {},
   "outputs": [],
   "source": [
    "#6.Define a function named print_updated_inventory that takes inventory as a parameter. \n",
    "#Inside the function, implement the code for printing the updated inventory.\n",
    "def print_updated_inventory(inventory):\n",
    "    for order in customer_orders:\n",
    "        inventory[order]-=1\n",
    "    for order in inventory:\n",
    "        print(f\"{order}:{inventory[order]}\")"
   ]
  },
  {
   "cell_type": "code",
   "execution_count": 27,
   "id": "10a50f52-f8a7-419f-ae7d-270a0951302f",
   "metadata": {},
   "outputs": [
    {
     "name": "stdout",
     "output_type": "stream",
     "text": [
      "t-shirt:1\n",
      "mug:2\n",
      "hat:5\n",
      "book:4\n",
      "keychain:7\n"
     ]
    }
   ],
   "source": [
    "print_updated_inventory(inventory)"
   ]
  },
  {
   "cell_type": "code",
   "execution_count": null,
   "id": "6f8925bb-339e-4f3f-bf83-15f088e58a97",
   "metadata": {},
   "outputs": [],
   "source": []
  }
 ],
 "metadata": {
  "kernelspec": {
   "display_name": "Python 3 (ipykernel)",
   "language": "python",
   "name": "python3"
  },
  "language_info": {
   "codemirror_mode": {
    "name": "ipython",
    "version": 3
   },
   "file_extension": ".py",
   "mimetype": "text/x-python",
   "name": "python",
   "nbconvert_exporter": "python",
   "pygments_lexer": "ipython3",
   "version": "3.12.4"
  }
 },
 "nbformat": 4,
 "nbformat_minor": 5
}
